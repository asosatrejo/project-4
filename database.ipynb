{
 "cells": [
  {
   "cell_type": "markdown",
   "metadata": {},
   "source": [
    "# 1. Loading the Data\n"
   ]
  },
  {
   "cell_type": "code",
   "execution_count": 1,
   "metadata": {},
   "outputs": [
    {
     "name": "stdout",
     "output_type": "stream",
     "text": [
      "      County  Year  Days with AQI  Good Days  Moderate Days  \\\n",
      "0   Alamance  2010            363        231            132   \n",
      "1  Alexander  2010            214        132             75   \n",
      "2      Avery  2010            362        280             75   \n",
      "3   Buncombe  2010            364        246            114   \n",
      "4   Caldwell  2010            212        149             59   \n",
      "\n",
      "   Unhealthy for Sensitive Groups Days  Unhealthy Days  Very Unhealthy Days  \\\n",
      "0                                    0               0                    0   \n",
      "1                                    7               0                    0   \n",
      "2                                    7               0                    0   \n",
      "3                                    4               0                    0   \n",
      "4                                    4               0                    0   \n",
      "\n",
      "   Hazardous Days  Max AQI  90th Percentile AQI  Median AQI  Days CO  \\\n",
      "0               0       91                   62          43        0   \n",
      "1               0      140                   84          46        0   \n",
      "2               0      122                   71          44        0   \n",
      "3               0      119                   65          44        0   \n",
      "4               0      122                   74          44        0   \n",
      "\n",
      "   Days NO2  Days Ozone  Days PM2.5  Days PM10  Good_to_Moderate_Ratio  \\\n",
      "0         0           0         363          0                1.750000   \n",
      "1         0         214           0          0                1.760000   \n",
      "2         0         346          16          0                3.733333   \n",
      "3         0         119         245          0                2.157895   \n",
      "4         0         212           0          0                2.525424   \n",
      "\n",
      "   Unhealthy_Days_Percentage  \n",
      "0                   0.000000  \n",
      "1                   3.271028  \n",
      "2                   1.933702  \n",
      "3                   1.098901  \n",
      "4                   1.886792  \n"
     ]
    }
   ],
   "source": [
    "# load the data from your CSV file into a pandas DataFrame.\n",
    "import pandas as pd\n",
    "\n",
    "# Load the data\n",
    "file_path = '/Users/nataliiabondarenko/Desktop/Project4/Resources/nc_aqi_2010-2022.csv'\n",
    "data = pd.read_csv(file_path)\n",
    "\n",
    "# Preview the data\n",
    "print(data.head())\n"
   ]
  },
  {
   "cell_type": "markdown",
   "metadata": {},
   "source": [
    "# 2. Data Inspection\n",
    "Inspect the data to understand its structure, missing values, and potential inconsistencies."
   ]
  },
  {
   "cell_type": "code",
   "execution_count": 2,
   "metadata": {},
   "outputs": [
    {
     "name": "stdout",
     "output_type": "stream",
     "text": [
      "<class 'pandas.core.frame.DataFrame'>\n",
      "RangeIndex: 521 entries, 0 to 520\n",
      "Data columns (total 19 columns):\n",
      " #   Column                               Non-Null Count  Dtype  \n",
      "---  ------                               --------------  -----  \n",
      " 0   County                               521 non-null    object \n",
      " 1   Year                                 521 non-null    int64  \n",
      " 2   Days with AQI                        521 non-null    int64  \n",
      " 3   Good Days                            521 non-null    int64  \n",
      " 4   Moderate Days                        521 non-null    int64  \n",
      " 5   Unhealthy for Sensitive Groups Days  521 non-null    int64  \n",
      " 6   Unhealthy Days                       521 non-null    int64  \n",
      " 7   Very Unhealthy Days                  521 non-null    int64  \n",
      " 8   Hazardous Days                       521 non-null    int64  \n",
      " 9   Max AQI                              521 non-null    int64  \n",
      " 10  90th Percentile AQI                  521 non-null    int64  \n",
      " 11  Median AQI                           521 non-null    int64  \n",
      " 12  Days CO                              521 non-null    int64  \n",
      " 13  Days NO2                             521 non-null    int64  \n",
      " 14  Days Ozone                           521 non-null    int64  \n",
      " 15  Days PM2.5                           521 non-null    int64  \n",
      " 16  Days PM10                            521 non-null    int64  \n",
      " 17  Good_to_Moderate_Ratio               521 non-null    float64\n",
      " 18  Unhealthy_Days_Percentage            521 non-null    float64\n",
      "dtypes: float64(2), int64(16), object(1)\n",
      "memory usage: 77.5+ KB\n",
      "None\n",
      "              Year  Days with AQI   Good Days  Moderate Days  \\\n",
      "count   521.000000     521.000000  521.000000     521.000000   \n",
      "mean   2015.606526     287.282150  231.101727      54.596929   \n",
      "std       3.728873      78.185917   68.214729      38.139807   \n",
      "min    2010.000000      36.000000   33.000000       0.000000   \n",
      "25%    2012.000000     214.000000  184.000000      25.000000   \n",
      "50%    2015.000000     303.000000  236.000000      45.000000   \n",
      "75%    2019.000000     361.000000  288.000000      77.000000   \n",
      "max    2022.000000     366.000000  359.000000     182.000000   \n",
      "\n",
      "       Unhealthy for Sensitive Groups Days  Unhealthy Days  \\\n",
      "count                           521.000000      521.000000   \n",
      "mean                              1.456814        0.122841   \n",
      "std                               3.343558        0.588574   \n",
      "min                               0.000000        0.000000   \n",
      "25%                               0.000000        0.000000   \n",
      "50%                               0.000000        0.000000   \n",
      "75%                               1.000000        0.000000   \n",
      "max                              24.000000        8.000000   \n",
      "\n",
      "       Very Unhealthy Days  Hazardous Days     Max AQI  90th Percentile AQI  \\\n",
      "count           521.000000           521.0  521.000000           521.000000   \n",
      "mean              0.003839             0.0   99.403071            57.698656   \n",
      "std               0.061898             0.0   27.352660            10.741695   \n",
      "min               0.000000             0.0   41.000000            28.000000   \n",
      "25%               0.000000             0.0   80.000000            50.000000   \n",
      "50%               0.000000             0.0   93.000000            56.000000   \n",
      "75%               0.000000             0.0  112.000000            63.000000   \n",
      "max               1.000000             0.0  206.000000            97.000000   \n",
      "\n",
      "       Median AQI     Days CO    Days NO2  Days Ozone  Days PM2.5   Days PM10  \\\n",
      "count  521.000000  521.000000  521.000000  521.000000  521.000000  521.000000   \n",
      "mean    39.213052    0.011516    0.700576  172.332054  112.046065    2.191939   \n",
      "std      6.203806    0.106797    4.310383   96.225412  113.932511   11.741348   \n",
      "min     15.000000    0.000000    0.000000    0.000000    0.000000    0.000000   \n",
      "25%     36.000000    0.000000    0.000000  150.000000    0.000000    0.000000   \n",
      "50%     40.000000    0.000000    0.000000  198.000000   95.000000    0.000000   \n",
      "75%     44.000000    0.000000    0.000000  215.000000  184.000000    0.000000   \n",
      "max     58.000000    1.000000   74.000000  363.000000  365.000000  118.000000   \n",
      "\n",
      "       Good_to_Moderate_Ratio  Unhealthy_Days_Percentage  \n",
      "count              521.000000                 521.000000  \n",
      "mean                      inf                   0.553153  \n",
      "std                       NaN                   1.207985  \n",
      "min                  0.626087                   0.000000  \n",
      "25%                  2.821053                   0.000000  \n",
      "50%                  4.793651                   0.000000  \n",
      "75%                  9.142857                   0.469484  \n",
      "max                       inf                   8.767123  \n",
      "County                                 0\n",
      "Year                                   0\n",
      "Days with AQI                          0\n",
      "Good Days                              0\n",
      "Moderate Days                          0\n",
      "Unhealthy for Sensitive Groups Days    0\n",
      "Unhealthy Days                         0\n",
      "Very Unhealthy Days                    0\n",
      "Hazardous Days                         0\n",
      "Max AQI                                0\n",
      "90th Percentile AQI                    0\n",
      "Median AQI                             0\n",
      "Days CO                                0\n",
      "Days NO2                               0\n",
      "Days Ozone                             0\n",
      "Days PM2.5                             0\n",
      "Days PM10                              0\n",
      "Good_to_Moderate_Ratio                 0\n",
      "Unhealthy_Days_Percentage              0\n",
      "dtype: int64\n"
     ]
    }
   ],
   "source": [
    "# Basic info about the data\n",
    "print(data.info())\n",
    "\n",
    "# Summary statistics\n",
    "print(data.describe())\n",
    "\n",
    "# Checking for missing values\n",
    "print(data.isnull().sum())\n"
   ]
  },
  {
   "cell_type": "markdown",
   "metadata": {},
   "source": [
    "# 3. Data Cleaning\n",
    "Based on the inspection, perform necessary cleaning steps "
   ]
  },
  {
   "cell_type": "code",
   "execution_count": 3,
   "metadata": {},
   "outputs": [
    {
     "name": "stdout",
     "output_type": "stream",
     "text": [
      "Data shape after removing duplicates: (521, 19)\n"
     ]
    }
   ],
   "source": [
    "# Removing duplicates\n",
    "data = data.drop_duplicates()\n",
    "\n",
    "# Confirming if any duplicates were removed\n",
    "print(f\"Data shape after removing duplicates: {data.shape}\")\n",
    "\n"
   ]
  },
  {
   "cell_type": "markdown",
   "metadata": {},
   "source": [
    "# 4. Data Transformation\n",
    "Transform the data as needed for analysis."
   ]
  },
  {
   "cell_type": "code",
   "execution_count": 4,
   "metadata": {},
   "outputs": [
    {
     "ename": "KeyError",
     "evalue": "'State'",
     "output_type": "error",
     "traceback": [
      "\u001b[0;31m---------------------------------------------------------------------------\u001b[0m",
      "\u001b[0;31mKeyError\u001b[0m                                  Traceback (most recent call last)",
      "File \u001b[0;32m~/anaconda3/envs/dev/lib/python3.10/site-packages/pandas/core/indexes/base.py:3802\u001b[0m, in \u001b[0;36mIndex.get_loc\u001b[0;34m(self, key, method, tolerance)\u001b[0m\n\u001b[1;32m   3801\u001b[0m \u001b[39mtry\u001b[39;00m:\n\u001b[0;32m-> 3802\u001b[0m     \u001b[39mreturn\u001b[39;00m \u001b[39mself\u001b[39;49m\u001b[39m.\u001b[39;49m_engine\u001b[39m.\u001b[39;49mget_loc(casted_key)\n\u001b[1;32m   3803\u001b[0m \u001b[39mexcept\u001b[39;00m \u001b[39mKeyError\u001b[39;00m \u001b[39mas\u001b[39;00m err:\n",
      "File \u001b[0;32m~/anaconda3/envs/dev/lib/python3.10/site-packages/pandas/_libs/index.pyx:138\u001b[0m, in \u001b[0;36mpandas._libs.index.IndexEngine.get_loc\u001b[0;34m()\u001b[0m\n",
      "File \u001b[0;32m~/anaconda3/envs/dev/lib/python3.10/site-packages/pandas/_libs/index.pyx:165\u001b[0m, in \u001b[0;36mpandas._libs.index.IndexEngine.get_loc\u001b[0;34m()\u001b[0m\n",
      "File \u001b[0;32mpandas/_libs/hashtable_class_helper.pxi:5745\u001b[0m, in \u001b[0;36mpandas._libs.hashtable.PyObjectHashTable.get_item\u001b[0;34m()\u001b[0m\n",
      "File \u001b[0;32mpandas/_libs/hashtable_class_helper.pxi:5753\u001b[0m, in \u001b[0;36mpandas._libs.hashtable.PyObjectHashTable.get_item\u001b[0;34m()\u001b[0m\n",
      "\u001b[0;31mKeyError\u001b[0m: 'State'",
      "\nThe above exception was the direct cause of the following exception:\n",
      "\u001b[0;31mKeyError\u001b[0m                                  Traceback (most recent call last)",
      "\u001b[1;32m/Users/nataliiabondarenko/Desktop/GitHub/project-4/database.ipynb Cell 8\u001b[0m line \u001b[0;36m2\n\u001b[1;32m      <a href='vscode-notebook-cell:/Users/nataliiabondarenko/Desktop/GitHub/project-4/database.ipynb#X10sZmlsZQ%3D%3D?line=0'>1</a>\u001b[0m \u001b[39m# Converting 'State' and 'County' to category data types\u001b[39;00m\n\u001b[0;32m----> <a href='vscode-notebook-cell:/Users/nataliiabondarenko/Desktop/GitHub/project-4/database.ipynb#X10sZmlsZQ%3D%3D?line=1'>2</a>\u001b[0m data[\u001b[39m'\u001b[39m\u001b[39mState\u001b[39m\u001b[39m'\u001b[39m] \u001b[39m=\u001b[39m data[\u001b[39m'\u001b[39;49m\u001b[39mState\u001b[39;49m\u001b[39m'\u001b[39;49m]\u001b[39m.\u001b[39mastype(\u001b[39m'\u001b[39m\u001b[39mcategory\u001b[39m\u001b[39m'\u001b[39m)\n\u001b[1;32m      <a href='vscode-notebook-cell:/Users/nataliiabondarenko/Desktop/GitHub/project-4/database.ipynb#X10sZmlsZQ%3D%3D?line=2'>3</a>\u001b[0m data[\u001b[39m'\u001b[39m\u001b[39mCounty\u001b[39m\u001b[39m'\u001b[39m] \u001b[39m=\u001b[39m data[\u001b[39m'\u001b[39m\u001b[39mCounty\u001b[39m\u001b[39m'\u001b[39m]\u001b[39m.\u001b[39mastype(\u001b[39m'\u001b[39m\u001b[39mcategory\u001b[39m\u001b[39m'\u001b[39m)\n\u001b[1;32m      <a href='vscode-notebook-cell:/Users/nataliiabondarenko/Desktop/GitHub/project-4/database.ipynb#X10sZmlsZQ%3D%3D?line=4'>5</a>\u001b[0m \u001b[39m# Checking the data types again to confirm the changes\u001b[39;00m\n",
      "File \u001b[0;32m~/anaconda3/envs/dev/lib/python3.10/site-packages/pandas/core/frame.py:3807\u001b[0m, in \u001b[0;36mDataFrame.__getitem__\u001b[0;34m(self, key)\u001b[0m\n\u001b[1;32m   3805\u001b[0m \u001b[39mif\u001b[39;00m \u001b[39mself\u001b[39m\u001b[39m.\u001b[39mcolumns\u001b[39m.\u001b[39mnlevels \u001b[39m>\u001b[39m \u001b[39m1\u001b[39m:\n\u001b[1;32m   3806\u001b[0m     \u001b[39mreturn\u001b[39;00m \u001b[39mself\u001b[39m\u001b[39m.\u001b[39m_getitem_multilevel(key)\n\u001b[0;32m-> 3807\u001b[0m indexer \u001b[39m=\u001b[39m \u001b[39mself\u001b[39;49m\u001b[39m.\u001b[39;49mcolumns\u001b[39m.\u001b[39;49mget_loc(key)\n\u001b[1;32m   3808\u001b[0m \u001b[39mif\u001b[39;00m is_integer(indexer):\n\u001b[1;32m   3809\u001b[0m     indexer \u001b[39m=\u001b[39m [indexer]\n",
      "File \u001b[0;32m~/anaconda3/envs/dev/lib/python3.10/site-packages/pandas/core/indexes/base.py:3804\u001b[0m, in \u001b[0;36mIndex.get_loc\u001b[0;34m(self, key, method, tolerance)\u001b[0m\n\u001b[1;32m   3802\u001b[0m     \u001b[39mreturn\u001b[39;00m \u001b[39mself\u001b[39m\u001b[39m.\u001b[39m_engine\u001b[39m.\u001b[39mget_loc(casted_key)\n\u001b[1;32m   3803\u001b[0m \u001b[39mexcept\u001b[39;00m \u001b[39mKeyError\u001b[39;00m \u001b[39mas\u001b[39;00m err:\n\u001b[0;32m-> 3804\u001b[0m     \u001b[39mraise\u001b[39;00m \u001b[39mKeyError\u001b[39;00m(key) \u001b[39mfrom\u001b[39;00m \u001b[39merr\u001b[39;00m\n\u001b[1;32m   3805\u001b[0m \u001b[39mexcept\u001b[39;00m \u001b[39mTypeError\u001b[39;00m:\n\u001b[1;32m   3806\u001b[0m     \u001b[39m# If we have a listlike key, _check_indexing_error will raise\u001b[39;00m\n\u001b[1;32m   3807\u001b[0m     \u001b[39m#  InvalidIndexError. Otherwise we fall through and re-raise\u001b[39;00m\n\u001b[1;32m   3808\u001b[0m     \u001b[39m#  the TypeError.\u001b[39;00m\n\u001b[1;32m   3809\u001b[0m     \u001b[39mself\u001b[39m\u001b[39m.\u001b[39m_check_indexing_error(key)\n",
      "\u001b[0;31mKeyError\u001b[0m: 'State'"
     ]
    }
   ],
   "source": [
    "# Converting 'State' and 'County' to category data types\n",
    "data['State'] = data['State'].astype('category')\n",
    "data['County'] = data['County'].astype('category')\n",
    "\n",
    "# Checking the data types again to confirm the changes\n",
    "data.dtypes\n"
   ]
  },
  {
   "cell_type": "markdown",
   "metadata": {},
   "source": [
    "# 5. Data Export\n",
    "After cleaning export it to a new CSV file or directly use it for further analysis or machine learning."
   ]
  },
  {
   "cell_type": "code",
   "execution_count": 8,
   "metadata": {},
   "outputs": [],
   "source": [
    "# Exporting to a new CSV file\n",
    "cleaned_file_path = '/Users/nataliiabondarenko/Desktop/Project4/Resources/nc_aqi_2010-2022.csv'\n",
    "data.to_csv(cleaned_file_path, index=False)\n"
   ]
  },
  {
   "cell_type": "markdown",
   "metadata": {},
   "source": [
    "# 6. Database Storage \n"
   ]
  },
  {
   "cell_type": "code",
   "execution_count": 9,
   "metadata": {},
   "outputs": [],
   "source": [
    "from sqlalchemy import create_engine\n",
    "\n",
    "# Create an engine that stores data in the local directory's file\n",
    "engine = create_engine('sqlite:///nc_aqi_data.db')\n",
    "\n"
   ]
  },
  {
   "cell_type": "code",
   "execution_count": 10,
   "metadata": {},
   "outputs": [
    {
     "data": {
      "text/plain": [
       "521"
      ]
     },
     "execution_count": 10,
     "metadata": {},
     "output_type": "execute_result"
    }
   ],
   "source": [
    "# Store the data in a table named 'air_quality_data'\n",
    "data.to_sql('air_quality_data', con=engine, if_exists='replace', index=False)\n"
   ]
  },
  {
   "cell_type": "code",
   "execution_count": 11,
   "metadata": {},
   "outputs": [
    {
     "name": "stdout",
     "output_type": "stream",
     "text": [
      "            State     County  Year  Days with AQI  Good Days  Moderate Days  \\\n",
      "0  North Carolina   Alamance  2010            363        231            132   \n",
      "1  North Carolina  Alexander  2010            214        132             75   \n",
      "2  North Carolina      Avery  2010            362        280             75   \n",
      "3  North Carolina   Buncombe  2010            364        246            114   \n",
      "4  North Carolina   Caldwell  2010            212        149             59   \n",
      "\n",
      "   Unhealthy for Sensitive Groups Days  Unhealthy Days  Very Unhealthy Days  \\\n",
      "0                                    0               0                    0   \n",
      "1                                    7               0                    0   \n",
      "2                                    7               0                    0   \n",
      "3                                    4               0                    0   \n",
      "4                                    4               0                    0   \n",
      "\n",
      "   Hazardous Days  Max AQI  90th Percentile AQI  Median AQI  Days CO  \\\n",
      "0               0       91                   62          43        0   \n",
      "1               0      140                   84          46        0   \n",
      "2               0      122                   71          44        0   \n",
      "3               0      119                   65          44        0   \n",
      "4               0      122                   74          44        0   \n",
      "\n",
      "   Days NO2  Days Ozone  Days PM2.5  Days PM10  \n",
      "0         0           0         363          0  \n",
      "1         0         214           0          0  \n",
      "2         0         346          16          0  \n",
      "3         0         119         245          0  \n",
      "4         0         212           0          0  \n"
     ]
    }
   ],
   "source": [
    "# Read data back from the database to confirm\n",
    "retrieved_data = pd.read_sql('air_quality_data', con=engine)\n",
    "print(retrieved_data.head())\n"
   ]
  },
  {
   "cell_type": "code",
   "execution_count": null,
   "metadata": {},
   "outputs": [],
   "source": []
  },
  {
   "cell_type": "code",
   "execution_count": null,
   "metadata": {},
   "outputs": [],
   "source": []
  },
  {
   "cell_type": "code",
   "execution_count": null,
   "metadata": {},
   "outputs": [],
   "source": [
    "# Feature Engineering\n",
    "# Adding new features based on the existing data\n",
    "\n",
    "# Ratio of Good to Moderate Days\n",
    "data['Good_to_Moderate_Ratio'] = data['Good Days'] / data['Moderate Days']\n",
    "\n",
    "# Percentage of Unhealthy Days (of all types)\n",
    "data['Unhealthy_Days_Percentage'] = (\n",
    "    data['Unhealthy for Sensitive Groups Days'] + data['Unhealthy Days'] + data['Very Unhealthy Days'] + data['Hazardous Days']\n",
    ") / data['Days with AQI'] * 100\n",
    "\n",
    "# Display the first few rows with the new features\n",
    "data[['State', 'County', 'Year', 'Good_to_Moderate_Ratio', 'Unhealthy_Days_Percentage']].head()\n",
    "\n"
   ]
  },
  {
   "cell_type": "code",
   "execution_count": null,
   "metadata": {},
   "outputs": [],
   "source": []
  }
 ],
 "metadata": {
  "kernelspec": {
   "display_name": "dev",
   "language": "python",
   "name": "python3"
  },
  "language_info": {
   "codemirror_mode": {
    "name": "ipython",
    "version": 3
   },
   "file_extension": ".py",
   "mimetype": "text/x-python",
   "name": "python",
   "nbconvert_exporter": "python",
   "pygments_lexer": "ipython3",
   "version": "3.10.11"
  }
 },
 "nbformat": 4,
 "nbformat_minor": 2
}
