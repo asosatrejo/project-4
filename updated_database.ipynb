{
 "cells": [
  {
   "cell_type": "markdown",
   "metadata": {},
   "source": [
    "# 1. Loading the Data\n"
   ]
  },
  {
   "cell_type": "code",
   "execution_count": 1,
   "metadata": {},
   "outputs": [
    {
     "name": "stdout",
     "output_type": "stream",
     "text": [
      "            State     County  Year  Days with AQI  Good Days  Moderate Days  \\\n",
      "0  North Carolina   Alamance  2000            104         37             66   \n",
      "1  North Carolina  Alexander  2000            211         94             64   \n",
      "2  North Carolina      Avery  2000            365        211            117   \n",
      "3  North Carolina   Buncombe  2000            260        129            110   \n",
      "4  North Carolina   Cabarrus  2000            115         36             78   \n",
      "\n",
      "   Unhealthy for Sensitive Groups Days  Unhealthy Days  Very Unhealthy Days  \\\n",
      "0                                    1               0                    0   \n",
      "1                                   48               5                    0   \n",
      "2                                   34               3                    0   \n",
      "3                                   15               6                    0   \n",
      "4                                    1               0                    0   \n",
      "\n",
      "   Hazardous Days  Max AQI  90th Percentile AQI  Median AQI  Days CO  \\\n",
      "0               0      104                   76          56        0   \n",
      "1               0      182                  126          58        0   \n",
      "2               0      172                  101          47        0   \n",
      "3               0      179                   93          51        0   \n",
      "4               0      118                   86          56        0   \n",
      "\n",
      "   Days NO2  Days Ozone  Days PM2.5  Days PM10  \n",
      "0         0           0         104          0  \n",
      "1         0         211           0          0  \n",
      "2         0         353          12          0  \n",
      "3         0         176          84          0  \n",
      "4         0           0         114          1  \n"
     ]
    }
   ],
   "source": [
    "# load the data from your CSV file into a pandas DataFrame.\n",
    "import pandas as pd\n",
    "\n",
    "# Load the data\n",
    "file_path = '/Users/nataliiabondarenko/Desktop/GitHub/project-4/Resources/nc_aqi_1980-2022.csv'\n",
    "data = pd.read_csv(file_path)\n",
    "\n",
    "# Preview the data\n",
    "print(data.head())\n"
   ]
  },
  {
   "cell_type": "markdown",
   "metadata": {},
   "source": [
    "# 2. Data Inspection\n",
    "Inspect the data to understand its structure, missing values, and potential inconsistencies."
   ]
  },
  {
   "cell_type": "code",
   "execution_count": 2,
   "metadata": {},
   "outputs": [
    {
     "name": "stdout",
     "output_type": "stream",
     "text": [
      "<class 'pandas.core.frame.DataFrame'>\n",
      "RangeIndex: 1587 entries, 0 to 1586\n",
      "Data columns (total 18 columns):\n",
      " #   Column                               Non-Null Count  Dtype \n",
      "---  ------                               --------------  ----- \n",
      " 0   State                                1587 non-null   object\n",
      " 1   County                               1587 non-null   object\n",
      " 2   Year                                 1587 non-null   int64 \n",
      " 3   Days with AQI                        1587 non-null   int64 \n",
      " 4   Good Days                            1587 non-null   int64 \n",
      " 5   Moderate Days                        1587 non-null   int64 \n",
      " 6   Unhealthy for Sensitive Groups Days  1587 non-null   int64 \n",
      " 7   Unhealthy Days                       1587 non-null   int64 \n",
      " 8   Very Unhealthy Days                  1587 non-null   int64 \n",
      " 9   Hazardous Days                       1587 non-null   int64 \n",
      " 10  Max AQI                              1587 non-null   int64 \n",
      " 11  90th Percentile AQI                  1587 non-null   int64 \n",
      " 12  Median AQI                           1587 non-null   int64 \n",
      " 13  Days CO                              1587 non-null   int64 \n",
      " 14  Days NO2                             1587 non-null   int64 \n",
      " 15  Days Ozone                           1587 non-null   int64 \n",
      " 16  Days PM2.5                           1587 non-null   int64 \n",
      " 17  Days PM10                            1587 non-null   int64 \n",
      "dtypes: int64(16), object(2)\n",
      "memory usage: 223.3+ KB\n",
      "None\n"
     ]
    }
   ],
   "source": [
    "# Basic info about the data\n",
    "print(data.info())\n",
    "\n"
   ]
  },
  {
   "cell_type": "code",
   "execution_count": 3,
   "metadata": {},
   "outputs": [
    {
     "name": "stdout",
     "output_type": "stream",
     "text": [
      "              Year  Days with AQI    Good Days  Moderate Days  \\\n",
      "count  1587.000000    1587.000000  1587.000000    1587.000000   \n",
      "mean   2003.705734     242.311279   164.687461      64.797732   \n",
      "std      10.548201     102.244244    84.592536      46.220878   \n",
      "min    1980.000000       4.000000     4.000000       0.000000   \n",
      "25%    1996.000000     195.000000    98.000000      33.000000   \n",
      "50%    2004.000000     235.000000   151.000000      62.000000   \n",
      "75%    2012.000000     357.000000   235.000000      84.000000   \n",
      "max    2022.000000     366.000000   359.000000     237.000000   \n",
      "\n",
      "       Unhealthy for Sensitive Groups Days  Unhealthy Days  \\\n",
      "count                          1587.000000     1587.000000   \n",
      "mean                             10.408948        2.236295   \n",
      "std                              13.896111        4.984869   \n",
      "min                               0.000000        0.000000   \n",
      "25%                               0.000000        0.000000   \n",
      "50%                               3.000000        0.000000   \n",
      "75%                              18.000000        2.000000   \n",
      "max                              69.000000       40.000000   \n",
      "\n",
      "       Very Unhealthy Days  Hazardous Days      Max AQI  90th Percentile AQI  \\\n",
      "count          1587.000000          1587.0  1587.000000          1587.000000   \n",
      "mean              0.180844             0.0   125.804033            76.102079   \n",
      "std               1.066839             0.0    47.955620            29.376985   \n",
      "min               0.000000             0.0    19.000000             9.000000   \n",
      "25%               0.000000             0.0    90.000000            54.000000   \n",
      "50%               0.000000             0.0   123.000000            71.000000   \n",
      "75%               0.000000             0.0   164.000000            97.000000   \n",
      "max              19.000000             0.0   248.000000           185.000000   \n",
      "\n",
      "        Median AQI      Days CO     Days NO2  Days Ozone   Days PM2.5  \\\n",
      "count  1587.000000  1587.000000  1587.000000  1587.00000  1587.000000   \n",
      "mean     42.465658    12.801512     2.258979   151.73724    68.057341   \n",
      "std      11.292591    49.168435    13.677389   102.63240    98.268765   \n",
      "min       3.000000     0.000000     0.000000     0.00000     0.000000   \n",
      "25%      37.000000     0.000000     0.000000     0.00000     0.000000   \n",
      "50%      44.000000     0.000000     0.000000   189.00000     0.000000   \n",
      "75%      49.000000     0.000000     0.000000   213.00000   117.000000   \n",
      "max     101.000000   359.000000   191.000000   365.00000   365.000000   \n",
      "\n",
      "         Days PM10  \n",
      "count  1587.000000  \n",
      "mean      7.456207  \n",
      "std      19.222427  \n",
      "min       0.000000  \n",
      "25%       0.000000  \n",
      "50%       0.000000  \n",
      "75%       1.000000  \n",
      "max     173.000000  \n"
     ]
    }
   ],
   "source": [
    "# Summary statistics\n",
    "print(data.describe())\n"
   ]
  },
  {
   "cell_type": "code",
   "execution_count": 4,
   "metadata": {},
   "outputs": [
    {
     "name": "stdout",
     "output_type": "stream",
     "text": [
      "State                                  0\n",
      "County                                 0\n",
      "Year                                   0\n",
      "Days with AQI                          0\n",
      "Good Days                              0\n",
      "Moderate Days                          0\n",
      "Unhealthy for Sensitive Groups Days    0\n",
      "Unhealthy Days                         0\n",
      "Very Unhealthy Days                    0\n",
      "Hazardous Days                         0\n",
      "Max AQI                                0\n",
      "90th Percentile AQI                    0\n",
      "Median AQI                             0\n",
      "Days CO                                0\n",
      "Days NO2                               0\n",
      "Days Ozone                             0\n",
      "Days PM2.5                             0\n",
      "Days PM10                              0\n",
      "dtype: int64\n"
     ]
    }
   ],
   "source": [
    "# Checking for missing values\n",
    "print(data.isnull().sum())"
   ]
  },
  {
   "cell_type": "markdown",
   "metadata": {},
   "source": [
    "# 3. Data Cleaning\n",
    "Based on the inspection, perform necessary cleaning steps "
   ]
  },
  {
   "cell_type": "code",
   "execution_count": 5,
   "metadata": {},
   "outputs": [
    {
     "name": "stdout",
     "output_type": "stream",
     "text": [
      "Data shape after removing duplicates: (1587, 18)\n"
     ]
    }
   ],
   "source": [
    "# Removing duplicates\n",
    "data = data.drop_duplicates()\n",
    "\n",
    "# Confirming if any duplicates were removed\n",
    "print(f\"Data shape after removing duplicates: {data.shape}\")\n",
    "\n"
   ]
  },
  {
   "cell_type": "markdown",
   "metadata": {},
   "source": [
    "# 4. Data Transformation\n",
    "Transform the data as needed for analysis."
   ]
  },
  {
   "cell_type": "code",
   "execution_count": 6,
   "metadata": {},
   "outputs": [
    {
     "data": {
      "text/plain": [
       "State                                  category\n",
       "County                                 category\n",
       "Year                                      int64\n",
       "Days with AQI                             int64\n",
       "Good Days                                 int64\n",
       "Moderate Days                             int64\n",
       "Unhealthy for Sensitive Groups Days       int64\n",
       "Unhealthy Days                            int64\n",
       "Very Unhealthy Days                       int64\n",
       "Hazardous Days                            int64\n",
       "Max AQI                                   int64\n",
       "90th Percentile AQI                       int64\n",
       "Median AQI                                int64\n",
       "Days CO                                   int64\n",
       "Days NO2                                  int64\n",
       "Days Ozone                                int64\n",
       "Days PM2.5                                int64\n",
       "Days PM10                                 int64\n",
       "dtype: object"
      ]
     },
     "execution_count": 6,
     "metadata": {},
     "output_type": "execute_result"
    }
   ],
   "source": [
    "# Converting 'State' and 'County' to category data types\n",
    "data['State'] = data['State'].astype('category')\n",
    "data['County'] = data['County'].astype('category')\n",
    "\n",
    "# Checking the data types again to confirm the changes\n",
    "data.dtypes\n"
   ]
  },
  {
   "cell_type": "code",
   "execution_count": 7,
   "metadata": {},
   "outputs": [
    {
     "name": "stdout",
     "output_type": "stream",
     "text": [
      "Data shape after dropping 'State' column: (1587, 17)\n"
     ]
    }
   ],
   "source": [
    "# Drop the 'State' column\n",
    "data = data.drop(columns=['State'])\n",
    "\n",
    "# Confirming if the column was dropped\n",
    "print(f\"Data shape after dropping 'State' column: {data.shape}\")"
   ]
  },
  {
   "cell_type": "markdown",
   "metadata": {},
   "source": [
    "# 5. Data Export\n",
    "After cleaning export it to a new CSV file or directly use it for further analysis or machine learning."
   ]
  },
  {
   "cell_type": "code",
   "execution_count": 8,
   "metadata": {},
   "outputs": [],
   "source": [
    "# Exporting to a new CSV file\n",
    "cleaned_file_path = '/Users/nataliiabondarenko/Desktop/GitHub/project-4/Resources/nc_aqi_1980-2022.csv'\n",
    "data.to_csv(cleaned_file_path, index=False)\n"
   ]
  },
  {
   "cell_type": "markdown",
   "metadata": {},
   "source": [
    "# 6. Database Storage \n"
   ]
  },
  {
   "cell_type": "code",
   "execution_count": 9,
   "metadata": {},
   "outputs": [],
   "source": [
    "from sqlalchemy import create_engine\n",
    "\n",
    "# Create an engine that stores data in the local directory's file\n",
    "engine = create_engine('sqlite:///nc_aqi_data.db')\n",
    "\n"
   ]
  },
  {
   "cell_type": "code",
   "execution_count": 10,
   "metadata": {},
   "outputs": [
    {
     "data": {
      "text/plain": [
       "1587"
      ]
     },
     "execution_count": 10,
     "metadata": {},
     "output_type": "execute_result"
    }
   ],
   "source": [
    "# Store the data in a table named 'air_quality_data'\n",
    "data.to_sql('air_quality_data', con=engine, if_exists='replace', index=False)\n"
   ]
  },
  {
   "cell_type": "code",
   "execution_count": 11,
   "metadata": {},
   "outputs": [
    {
     "name": "stdout",
     "output_type": "stream",
     "text": [
      "      County  Year  Days with AQI  Good Days  Moderate Days  \\\n",
      "0   Alamance  2000            104         37             66   \n",
      "1  Alexander  2000            211         94             64   \n",
      "2      Avery  2000            365        211            117   \n",
      "3   Buncombe  2000            260        129            110   \n",
      "4   Cabarrus  2000            115         36             78   \n",
      "\n",
      "   Unhealthy for Sensitive Groups Days  Unhealthy Days  Very Unhealthy Days  \\\n",
      "0                                    1               0                    0   \n",
      "1                                   48               5                    0   \n",
      "2                                   34               3                    0   \n",
      "3                                   15               6                    0   \n",
      "4                                    1               0                    0   \n",
      "\n",
      "   Hazardous Days  Max AQI  90th Percentile AQI  Median AQI  Days CO  \\\n",
      "0               0      104                   76          56        0   \n",
      "1               0      182                  126          58        0   \n",
      "2               0      172                  101          47        0   \n",
      "3               0      179                   93          51        0   \n",
      "4               0      118                   86          56        0   \n",
      "\n",
      "   Days NO2  Days Ozone  Days PM2.5  Days PM10  \n",
      "0         0           0         104          0  \n",
      "1         0         211           0          0  \n",
      "2         0         353          12          0  \n",
      "3         0         176          84          0  \n",
      "4         0           0         114          1  \n"
     ]
    }
   ],
   "source": [
    "# Read data back from the database to confirm\n",
    "retrieved_data = pd.read_sql('air_quality_data', con=engine)\n",
    "print(retrieved_data.head())\n"
   ]
  }
 ],
 "metadata": {
  "kernelspec": {
   "display_name": "Python 3 (ipykernel)",
   "language": "python",
   "name": "python3"
  },
  "language_info": {
   "codemirror_mode": {
    "name": "ipython",
    "version": 3
   },
   "file_extension": ".py",
   "mimetype": "text/x-python",
   "name": "python",
   "nbconvert_exporter": "python",
   "pygments_lexer": "ipython3",
   "version": "3.10.11"
  }
 },
 "nbformat": 4,
 "nbformat_minor": 2
}
