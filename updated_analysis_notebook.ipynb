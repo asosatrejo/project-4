{
 "cells": [
  {
   "cell_type": "markdown",
   "metadata": {},
   "source": [
    "# 1. Loading the Data\n"
   ]
  },
  {
   "cell_type": "code",
   "execution_count": 1,
   "metadata": {},
   "outputs": [
    {
     "name": "stdout",
     "output_type": "stream",
     "text": [
      "     County  Year  Days with AQI  Good Days  Moderate Days  \\\n",
      "0  Buncombe  2000          260.0      129.0          110.0   \n",
      "1  Buncombe  2001          253.0      141.0          100.0   \n",
      "2  Buncombe  2002          260.0      144.0           83.0   \n",
      "3  Buncombe  2003          303.0      178.0          119.0   \n",
      "4  Buncombe  2004          357.0      187.0          166.0   \n",
      "\n",
      "   Unhealthy for Sensitive Groups Days  Unhealthy Days  Very Unhealthy Days  \\\n",
      "0                                 15.0             6.0                  0.0   \n",
      "1                                 11.0             1.0                  0.0   \n",
      "2                                 27.0             6.0                  0.0   \n",
      "3                                  6.0             0.0                  0.0   \n",
      "4                                  4.0             0.0                  0.0   \n",
      "\n",
      "   Hazardous Days  Max AQI  90th Percentile AQI  Median AQI  Days CO  \\\n",
      "0             0.0    179.0                 93.0        51.0      0.0   \n",
      "1             0.0    171.0                 87.0        48.0      0.0   \n",
      "2             0.0    179.0                108.0        48.0      0.0   \n",
      "3             0.0    137.0                 72.0        46.0      0.0   \n",
      "4             0.0    133.0                 74.0        49.0      0.0   \n",
      "\n",
      "   Days NO2  Days Ozone  Days PM2.5  Days PM10  \n",
      "0       0.0       176.0        84.0        0.0  \n",
      "1       0.0       174.0        78.0        1.0  \n",
      "2       0.0       172.0        88.0        0.0  \n",
      "3       0.0        90.0       213.0        0.0  \n",
      "4       0.0        82.0       275.0        0.0  \n"
     ]
    }
   ],
   "source": [
    "# load the data from your CSV file into a pandas DataFrame.\n",
    "import pandas as pd\n",
    "\n",
    "# Load the data\n",
    "file_path = '/Users/nataliiabondarenko/Desktop/GitHub/project-4/Resources/nc_aqi_1980-2022.csv'\n",
    "data = pd.read_csv(file_path)\n",
    "\n",
    "# Preview the data\n",
    "print(data.head())\n"
   ]
  },
  {
   "cell_type": "markdown",
   "metadata": {},
   "source": [
    "# 2. Data Inspection\n",
    "Inspect the data to understand its structure, missing values, and potential inconsistencies."
   ]
  },
  {
   "cell_type": "code",
   "execution_count": 2,
   "metadata": {},
   "outputs": [
    {
     "name": "stdout",
     "output_type": "stream",
     "text": [
      "<class 'pandas.core.frame.DataFrame'>\n",
      "RangeIndex: 1845 entries, 0 to 1844\n",
      "Data columns (total 17 columns):\n",
      " #   Column                               Non-Null Count  Dtype  \n",
      "---  ------                               --------------  -----  \n",
      " 0   County                               1845 non-null   object \n",
      " 1   Year                                 1845 non-null   int64  \n",
      " 2   Days with AQI                        1845 non-null   float64\n",
      " 3   Good Days                            1845 non-null   float64\n",
      " 4   Moderate Days                        1845 non-null   float64\n",
      " 5   Unhealthy for Sensitive Groups Days  1845 non-null   float64\n",
      " 6   Unhealthy Days                       1845 non-null   float64\n",
      " 7   Very Unhealthy Days                  1845 non-null   float64\n",
      " 8   Hazardous Days                       1845 non-null   float64\n",
      " 9   Max AQI                              1845 non-null   float64\n",
      " 10  90th Percentile AQI                  1845 non-null   float64\n",
      " 11  Median AQI                           1845 non-null   float64\n",
      " 12  Days CO                              1845 non-null   float64\n",
      " 13  Days NO2                             1845 non-null   float64\n",
      " 14  Days Ozone                           1845 non-null   float64\n",
      " 15  Days PM2.5                           1845 non-null   float64\n",
      " 16  Days PM10                            1845 non-null   float64\n",
      "dtypes: float64(15), int64(1), object(1)\n",
      "memory usage: 245.2+ KB\n",
      "None\n"
     ]
    }
   ],
   "source": [
    "# Basic info about the data\n",
    "print(data.info())\n",
    "\n"
   ]
  },
  {
   "cell_type": "code",
   "execution_count": 3,
   "metadata": {},
   "outputs": [
    {
     "name": "stdout",
     "output_type": "stream",
     "text": [
      "              Year  Days with AQI    Good Days  Moderate Days  \\\n",
      "count  1845.000000    1845.000000  1845.000000    1845.000000   \n",
      "mean   2003.327371     251.702439   169.016260      68.559350   \n",
      "std      10.868527     101.860410    83.806316      48.120402   \n",
      "min    1980.000000       4.000000     4.000000       0.000000   \n",
      "25%    1995.000000     204.000000   103.000000      36.000000   \n",
      "50%    2003.000000     247.000000   155.000000      64.000000   \n",
      "75%    2012.000000     360.000000   237.000000      90.000000   \n",
      "max    2022.000000     366.000000   359.000000     237.000000   \n",
      "\n",
      "       Unhealthy for Sensitive Groups Days  Unhealthy Days  \\\n",
      "count                          1845.000000     1845.000000   \n",
      "mean                             11.323577        2.569648   \n",
      "std                              14.508802        5.495921   \n",
      "min                               0.000000        0.000000   \n",
      "25%                               0.000000        0.000000   \n",
      "50%                               4.000000        0.000000   \n",
      "75%                              20.000000        2.000000   \n",
      "max                              69.000000       40.000000   \n",
      "\n",
      "       Very Unhealthy Days  Hazardous Days      Max AQI  90th Percentile AQI  \\\n",
      "count          1845.000000          1845.0  1845.000000          1845.000000   \n",
      "mean              0.233604             0.0   129.078049            77.583740   \n",
      "std               1.259307             0.0    48.213590            29.535305   \n",
      "min               0.000000             0.0    19.000000             9.000000   \n",
      "25%               0.000000             0.0    93.000000            55.000000   \n",
      "50%               0.000000             0.0   129.000000            74.000000   \n",
      "75%               0.000000             0.0   166.000000            97.000000   \n",
      "max              19.000000             0.0   248.000000           185.000000   \n",
      "\n",
      "        Median AQI      Days CO     Days NO2   Days Ozone   Days PM2.5  \\\n",
      "count  1845.000000  1845.000000  1845.000000  1845.000000  1845.000000   \n",
      "mean     42.837398    15.811382     2.621138   154.771816    71.025474   \n",
      "std      11.048582    52.121367    14.195913    96.699091    97.807460   \n",
      "min       3.000000     0.000000     0.000000     0.000000     0.000000   \n",
      "25%      38.000000     0.000000     0.000000    99.000000     0.000000   \n",
      "50%      44.000000     0.000000     0.000000   188.000000     0.000000   \n",
      "75%      49.000000     0.000000     0.000000   211.000000   120.000000   \n",
      "max     101.000000   359.000000   191.000000   365.000000   365.000000   \n",
      "\n",
      "         Days PM10  \n",
      "count  1845.000000  \n",
      "mean      7.472629  \n",
      "std      19.974793  \n",
      "min       0.000000  \n",
      "25%       0.000000  \n",
      "50%       0.000000  \n",
      "75%       1.000000  \n",
      "max     173.000000  \n"
     ]
    }
   ],
   "source": [
    "# Summary statistics\n",
    "print(data.describe())\n"
   ]
  },
  {
   "cell_type": "code",
   "execution_count": 4,
   "metadata": {},
   "outputs": [
    {
     "name": "stdout",
     "output_type": "stream",
     "text": [
      "County                                 0\n",
      "Year                                   0\n",
      "Days with AQI                          0\n",
      "Good Days                              0\n",
      "Moderate Days                          0\n",
      "Unhealthy for Sensitive Groups Days    0\n",
      "Unhealthy Days                         0\n",
      "Very Unhealthy Days                    0\n",
      "Hazardous Days                         0\n",
      "Max AQI                                0\n",
      "90th Percentile AQI                    0\n",
      "Median AQI                             0\n",
      "Days CO                                0\n",
      "Days NO2                               0\n",
      "Days Ozone                             0\n",
      "Days PM2.5                             0\n",
      "Days PM10                              0\n",
      "dtype: int64\n"
     ]
    }
   ],
   "source": [
    "# Checking for missing values\n",
    "print(data.isnull().sum())"
   ]
  },
  {
   "cell_type": "markdown",
   "metadata": {},
   "source": [
    "# 3. Data Cleaning\n",
    "Based on the inspection, perform necessary cleaning steps "
   ]
  },
  {
   "cell_type": "code",
   "execution_count": 5,
   "metadata": {},
   "outputs": [
    {
     "name": "stdout",
     "output_type": "stream",
     "text": [
      "Data shape after removing duplicates: (1596, 17)\n"
     ]
    }
   ],
   "source": [
    "# Removing duplicates\n",
    "data = data.drop_duplicates()\n",
    "\n",
    "# Confirming if any duplicates were removed\n",
    "print(f\"Data shape after removing duplicates: {data.shape}\")\n",
    "\n"
   ]
  },
  {
   "cell_type": "markdown",
   "metadata": {},
   "source": [
    "# 4. Data Transformation\n",
    "Transform the data as needed for analysis."
   ]
  },
  {
   "cell_type": "code",
   "execution_count": 6,
   "metadata": {},
   "outputs": [
    {
     "name": "stdout",
     "output_type": "stream",
     "text": [
      "County                                 category\n",
      "Year                                      int64\n",
      "Days with AQI                           float64\n",
      "Good Days                               float64\n",
      "Moderate Days                           float64\n",
      "Unhealthy for Sensitive Groups Days     float64\n",
      "Unhealthy Days                          float64\n",
      "Very Unhealthy Days                     float64\n",
      "Hazardous Days                          float64\n",
      "Max AQI                                 float64\n",
      "90th Percentile AQI                     float64\n",
      "Median AQI                              float64\n",
      "Days CO                                 float64\n",
      "Days NO2                                float64\n",
      "Days Ozone                              float64\n",
      "Days PM2.5                              float64\n",
      "Days PM10                               float64\n",
      "dtype: object\n"
     ]
    }
   ],
   "source": [
    "# Converting 'State' and 'County' to category data types\n",
    "if 'State' in data.columns:\n",
    "    data['State'] = data['State'].astype('category')\n",
    "data['County'] = data['County'].astype('category')\n",
    "\n",
    "# Checking the data types again to confirm the changes\n",
    "print(data.dtypes)"
   ]
  },
  {
   "cell_type": "code",
   "execution_count": 7,
   "metadata": {},
   "outputs": [
    {
     "name": "stdout",
     "output_type": "stream",
     "text": [
      "Data shape after dropping 'State' column: (1596, 17)\n"
     ]
    }
   ],
   "source": [
    "# Drop the 'State' column if it exists\n",
    "if 'State' in data.columns:\n",
    "    data = data.drop(columns=['State'])\n",
    "\n",
    "# Confirming if the column was dropped\n",
    "print(f\"Data shape after dropping 'State' column: {data.shape}\")"
   ]
  },
  {
   "cell_type": "markdown",
   "metadata": {},
   "source": [
    "# 5. Data Export\n",
    "After cleaning export it to a new CSV file or directly use it for further analysis or machine learning."
   ]
  },
  {
   "cell_type": "code",
   "execution_count": 8,
   "metadata": {},
   "outputs": [],
   "source": [
    "# Exporting to a new CSV file\n",
    "cleaned_file_path = '/Users/nataliiabondarenko/Desktop/GitHub/project-4/Resources/cleaned_data.csv'\n",
    "data.to_csv(cleaned_file_path, index=False)\n"
   ]
  },
  {
   "cell_type": "markdown",
   "metadata": {},
   "source": [
    "# 6. Database Storage \n"
   ]
  },
  {
   "cell_type": "code",
   "execution_count": 8,
   "metadata": {},
   "outputs": [],
   "source": [
    "from sqlalchemy import create_engine\n",
    "\n",
    "# Create an engine that stores data in the local directory's file\n",
    "engine = create_engine('sqlite:///nc_aqi_data1.db')\n",
    "\n"
   ]
  },
  {
   "cell_type": "code",
   "execution_count": 9,
   "metadata": {},
   "outputs": [
    {
     "data": {
      "text/plain": [
       "1596"
      ]
     },
     "execution_count": 9,
     "metadata": {},
     "output_type": "execute_result"
    }
   ],
   "source": [
    "# Store the data in a table named 'air_quality'\n",
    "data.to_sql('air_quality', con=engine, if_exists='replace', index=False)\n",
    "\n",
    "# Store the data in a table named 'predicted_2023'\n",
    "data.to_sql('predicted_2023', con=engine, if_exists='replace', index=False)\n"
   ]
  },
  {
   "cell_type": "code",
   "execution_count": 10,
   "metadata": {},
   "outputs": [
    {
     "name": "stdout",
     "output_type": "stream",
     "text": [
      "     County  Year  Days with AQI  Good Days  Moderate Days  \\\n",
      "0  Buncombe  2000          260.0      129.0          110.0   \n",
      "1  Buncombe  2001          253.0      141.0          100.0   \n",
      "2  Buncombe  2002          260.0      144.0           83.0   \n",
      "3  Buncombe  2003          303.0      178.0          119.0   \n",
      "4  Buncombe  2004          357.0      187.0          166.0   \n",
      "\n",
      "   Unhealthy for Sensitive Groups Days  Unhealthy Days  Very Unhealthy Days  \\\n",
      "0                                 15.0             6.0                  0.0   \n",
      "1                                 11.0             1.0                  0.0   \n",
      "2                                 27.0             6.0                  0.0   \n",
      "3                                  6.0             0.0                  0.0   \n",
      "4                                  4.0             0.0                  0.0   \n",
      "\n",
      "   Hazardous Days  Max AQI  90th Percentile AQI  Median AQI  Days CO  \\\n",
      "0             0.0    179.0                 93.0        51.0      0.0   \n",
      "1             0.0    171.0                 87.0        48.0      0.0   \n",
      "2             0.0    179.0                108.0        48.0      0.0   \n",
      "3             0.0    137.0                 72.0        46.0      0.0   \n",
      "4             0.0    133.0                 74.0        49.0      0.0   \n",
      "\n",
      "   Days NO2  Days Ozone  Days PM2.5  Days PM10  \n",
      "0       0.0       176.0        84.0        0.0  \n",
      "1       0.0       174.0        78.0        1.0  \n",
      "2       0.0       172.0        88.0        0.0  \n",
      "3       0.0        90.0       213.0        0.0  \n",
      "4       0.0        82.0       275.0        0.0  \n",
      "     County  Year  Days with AQI  Good Days  Moderate Days  \\\n",
      "0  Buncombe  2000          260.0      129.0          110.0   \n",
      "1  Buncombe  2001          253.0      141.0          100.0   \n",
      "2  Buncombe  2002          260.0      144.0           83.0   \n",
      "3  Buncombe  2003          303.0      178.0          119.0   \n",
      "4  Buncombe  2004          357.0      187.0          166.0   \n",
      "\n",
      "   Unhealthy for Sensitive Groups Days  Unhealthy Days  Very Unhealthy Days  \\\n",
      "0                                 15.0             6.0                  0.0   \n",
      "1                                 11.0             1.0                  0.0   \n",
      "2                                 27.0             6.0                  0.0   \n",
      "3                                  6.0             0.0                  0.0   \n",
      "4                                  4.0             0.0                  0.0   \n",
      "\n",
      "   Hazardous Days  Max AQI  90th Percentile AQI  Median AQI  Days CO  \\\n",
      "0             0.0    179.0                 93.0        51.0      0.0   \n",
      "1             0.0    171.0                 87.0        48.0      0.0   \n",
      "2             0.0    179.0                108.0        48.0      0.0   \n",
      "3             0.0    137.0                 72.0        46.0      0.0   \n",
      "4             0.0    133.0                 74.0        49.0      0.0   \n",
      "\n",
      "   Days NO2  Days Ozone  Days PM2.5  Days PM10  \n",
      "0       0.0       176.0        84.0        0.0  \n",
      "1       0.0       174.0        78.0        1.0  \n",
      "2       0.0       172.0        88.0        0.0  \n",
      "3       0.0        90.0       213.0        0.0  \n",
      "4       0.0        82.0       275.0        0.0  \n"
     ]
    }
   ],
   "source": [
    "# Read data back from the database to confirm\n",
    "retrieved_data = pd.read_sql('air_quality', con=engine)\n",
    "retrieved_data1 = pd.read_sql('predicted_2023', con=engine)\n",
    "print(retrieved_data.head())\n",
    "print(retrieved_data1.head())\n"
   ]
  },
  {
   "cell_type": "code",
   "execution_count": 11,
   "id": "5a5e7bab",
   "metadata": {},
   "outputs": [
    {
     "data": {
      "text/html": [
       "<div>\n",
       "<style scoped>\n",
       "    .dataframe tbody tr th:only-of-type {\n",
       "        vertical-align: middle;\n",
       "    }\n",
       "\n",
       "    .dataframe tbody tr th {\n",
       "        vertical-align: top;\n",
       "    }\n",
       "\n",
       "    .dataframe thead th {\n",
       "        text-align: right;\n",
       "    }\n",
       "</style>\n",
       "<table border=\"1\" class=\"dataframe\">\n",
       "  <thead>\n",
       "    <tr style=\"text-align: right;\">\n",
       "      <th></th>\n",
       "      <th>County</th>\n",
       "      <th>Year</th>\n",
       "      <th>Good_to_Moderate_Ratio</th>\n",
       "      <th>Unhealthy_Days_Percentage</th>\n",
       "    </tr>\n",
       "  </thead>\n",
       "  <tbody>\n",
       "    <tr>\n",
       "      <th>0</th>\n",
       "      <td>Buncombe</td>\n",
       "      <td>2000</td>\n",
       "      <td>1.172727</td>\n",
       "      <td>8.076923</td>\n",
       "    </tr>\n",
       "    <tr>\n",
       "      <th>1</th>\n",
       "      <td>Buncombe</td>\n",
       "      <td>2001</td>\n",
       "      <td>1.410000</td>\n",
       "      <td>4.743083</td>\n",
       "    </tr>\n",
       "    <tr>\n",
       "      <th>2</th>\n",
       "      <td>Buncombe</td>\n",
       "      <td>2002</td>\n",
       "      <td>1.734940</td>\n",
       "      <td>12.692308</td>\n",
       "    </tr>\n",
       "    <tr>\n",
       "      <th>3</th>\n",
       "      <td>Buncombe</td>\n",
       "      <td>2003</td>\n",
       "      <td>1.495798</td>\n",
       "      <td>1.980198</td>\n",
       "    </tr>\n",
       "    <tr>\n",
       "      <th>4</th>\n",
       "      <td>Buncombe</td>\n",
       "      <td>2004</td>\n",
       "      <td>1.126506</td>\n",
       "      <td>1.120448</td>\n",
       "    </tr>\n",
       "  </tbody>\n",
       "</table>\n",
       "</div>"
      ],
      "text/plain": [
       "     County  Year  Good_to_Moderate_Ratio  Unhealthy_Days_Percentage\n",
       "0  Buncombe  2000                1.172727                   8.076923\n",
       "1  Buncombe  2001                1.410000                   4.743083\n",
       "2  Buncombe  2002                1.734940                  12.692308\n",
       "3  Buncombe  2003                1.495798                   1.980198\n",
       "4  Buncombe  2004                1.126506                   1.120448"
      ]
     },
     "execution_count": 11,
     "metadata": {},
     "output_type": "execute_result"
    }
   ],
   "source": [
    "# Adding new features based on the existing data\n",
    "\n",
    "# Ratio of Good to Moderate Days\n",
    "data['Good_to_Moderate_Ratio'] = data['Good Days'] / data['Moderate Days']\n",
    "\n",
    "# Percentage of Unhealthy Days (of all types)\n",
    "data['Unhealthy_Days_Percentage'] = (\n",
    "    data['Unhealthy for Sensitive Groups Days'] + data['Unhealthy Days'] + data['Very Unhealthy Days'] + data['Hazardous Days']\n",
    ") / data['Days with AQI'] * 100\n",
    "\n",
    "# Display the first few rows with the new features\n",
    "data[['County', 'Year', 'Good_to_Moderate_Ratio', 'Unhealthy_Days_Percentage']].head()\n"
   ]
  },
  {
   "cell_type": "code",
   "execution_count": 18,
   "metadata": {},
   "outputs": [],
   "source": [
    "# Exporting to a new CSV file\n",
    "new_features_file_path = '/Users/nataliiabondarenko/Desktop/GitHub/project-4/Resources/cleaned_data.csv'\n",
    "data.to_csv(new_features_file_path, index=False)"
   ]
  }
 ],
 "metadata": {
  "kernelspec": {
   "display_name": "Python 3 (ipykernel)",
   "language": "python",
   "name": "python3"
  },
  "language_info": {
   "codemirror_mode": {
    "name": "ipython",
    "version": 3
   },
   "file_extension": ".py",
   "mimetype": "text/x-python",
   "name": "python",
   "nbconvert_exporter": "python",
   "pygments_lexer": "ipython3",
   "version": "3.10.11"
  }
 },
 "nbformat": 4,
 "nbformat_minor": 2
}
