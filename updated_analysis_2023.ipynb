{
 "cells": [
  {
   "cell_type": "markdown",
   "metadata": {},
   "source": [
    "# 1. Loading the Data\n"
   ]
  },
  {
   "cell_type": "code",
   "execution_count": 1,
   "metadata": {},
   "outputs": [
    {
     "name": "stdout",
     "output_type": "stream",
     "text": [
      "   Year       County  90th Percentile AQI  Days CO  Days NO2  Days OZONE  \\\n",
      "0  2023  Mecklenburg                 71.0        0         1         218   \n",
      "1  2023         Wake                 63.0        0         2         175   \n",
      "\n",
      "   Days PM2.5  Days PM10  \n",
      "0         108          0  \n",
      "1         148          0  \n"
     ]
    }
   ],
   "source": [
    "# load the data from your CSV file into a pandas DataFrame.\n",
    "import pandas as pd\n",
    "\n",
    "# Load the data\n",
    "file_path = '/Users/nataliiabondarenko/Desktop/GitHub/project-4/Resources/nc_2023_data.csv'\n",
    "data = pd.read_csv(file_path)\n",
    "\n",
    "# Preview the data\n",
    "print(data.head())\n"
   ]
  },
  {
   "cell_type": "markdown",
   "metadata": {},
   "source": [
    "# 2. Data Inspection\n",
    "Inspect the data to understand its structure, missing values, and potential inconsistencies."
   ]
  },
  {
   "cell_type": "code",
   "execution_count": 2,
   "metadata": {},
   "outputs": [
    {
     "name": "stdout",
     "output_type": "stream",
     "text": [
      "<class 'pandas.core.frame.DataFrame'>\n",
      "RangeIndex: 2 entries, 0 to 1\n",
      "Data columns (total 8 columns):\n",
      " #   Column               Non-Null Count  Dtype  \n",
      "---  ------               --------------  -----  \n",
      " 0   Year                 2 non-null      int64  \n",
      " 1   County               2 non-null      object \n",
      " 2   90th Percentile AQI  2 non-null      float64\n",
      " 3   Days CO              2 non-null      int64  \n",
      " 4   Days NO2             2 non-null      int64  \n",
      " 5   Days OZONE           2 non-null      int64  \n",
      " 6   Days PM2.5           2 non-null      int64  \n",
      " 7   Days PM10            2 non-null      int64  \n",
      "dtypes: float64(1), int64(6), object(1)\n",
      "memory usage: 256.0+ bytes\n",
      "None\n"
     ]
    }
   ],
   "source": [
    "# Basic info about the data\n",
    "print(data.info())\n",
    "\n"
   ]
  },
  {
   "cell_type": "code",
   "execution_count": 3,
   "metadata": {},
   "outputs": [
    {
     "name": "stdout",
     "output_type": "stream",
     "text": [
      "         Year  90th Percentile AQI  Days CO  Days NO2  Days OZONE  Days PM2.5  \\\n",
      "count     2.0             2.000000      2.0  2.000000    2.000000    2.000000   \n",
      "mean   2023.0            67.000000      0.0  1.500000  196.500000  128.000000   \n",
      "std       0.0             5.656854      0.0  0.707107   30.405592   28.284271   \n",
      "min    2023.0            63.000000      0.0  1.000000  175.000000  108.000000   \n",
      "25%    2023.0            65.000000      0.0  1.250000  185.750000  118.000000   \n",
      "50%    2023.0            67.000000      0.0  1.500000  196.500000  128.000000   \n",
      "75%    2023.0            69.000000      0.0  1.750000  207.250000  138.000000   \n",
      "max    2023.0            71.000000      0.0  2.000000  218.000000  148.000000   \n",
      "\n",
      "       Days PM10  \n",
      "count        2.0  \n",
      "mean         0.0  \n",
      "std          0.0  \n",
      "min          0.0  \n",
      "25%          0.0  \n",
      "50%          0.0  \n",
      "75%          0.0  \n",
      "max          0.0  \n"
     ]
    }
   ],
   "source": [
    "# Summary statistics\n",
    "print(data.describe())\n"
   ]
  },
  {
   "cell_type": "code",
   "execution_count": 4,
   "metadata": {},
   "outputs": [
    {
     "name": "stdout",
     "output_type": "stream",
     "text": [
      "Year                   0\n",
      "County                 0\n",
      "90th Percentile AQI    0\n",
      "Days CO                0\n",
      "Days NO2               0\n",
      "Days OZONE             0\n",
      "Days PM2.5             0\n",
      "Days PM10              0\n",
      "dtype: int64\n"
     ]
    }
   ],
   "source": [
    "# Checking for missing values\n",
    "print(data.isnull().sum())"
   ]
  },
  {
   "cell_type": "markdown",
   "metadata": {},
   "source": [
    "# 3. Data Cleaning\n",
    "Based on the inspection, perform necessary cleaning steps "
   ]
  },
  {
   "cell_type": "code",
   "execution_count": 5,
   "metadata": {},
   "outputs": [
    {
     "name": "stdout",
     "output_type": "stream",
     "text": [
      "Data shape after removing duplicates: (2, 8)\n"
     ]
    }
   ],
   "source": [
    "# Removing duplicates\n",
    "data = data.drop_duplicates()\n",
    "\n",
    "# Confirming if any duplicates were removed\n",
    "print(f\"Data shape after removing duplicates: {data.shape}\")\n",
    "\n"
   ]
  },
  {
   "cell_type": "markdown",
   "metadata": {},
   "source": [
    "# 4. Data Export\n",
    "After cleaning export it to a new CSV file or directly use it for further analysis or machine learning."
   ]
  },
  {
   "cell_type": "code",
   "execution_count": 6,
   "metadata": {},
   "outputs": [],
   "source": [
    "# Exporting to a new CSV file\n",
    "cleaned_file_path = '/Users/nataliiabondarenko/Desktop/GitHub/project-4/Resources/cleaned_data_2023.csv'\n",
    "data.to_csv(cleaned_file_path, index=False)\n"
   ]
  },
  {
   "cell_type": "markdown",
   "metadata": {},
   "source": [
    "# 6. Database Storage \n"
   ]
  },
  {
   "cell_type": "code",
   "execution_count": 9,
   "metadata": {},
   "outputs": [],
   "source": [
    "from sqlalchemy import create_engine\n",
    "\n",
    "# Create an engine that stores data in the local directory's file\n",
    "engine = create_engine\n",
    "\n"
   ]
  },
  {
   "cell_type": "code",
   "execution_count": 16,
   "metadata": {},
   "outputs": [
    {
     "data": {
      "text/plain": [
       "1596"
      ]
     },
     "execution_count": 16,
     "metadata": {},
     "output_type": "execute_result"
    }
   ],
   "source": [
    "# Store the data in a table named 'air_quality_data'\n",
    "data.to_sql\n",
    "\n"
   ]
  },
  {
   "cell_type": "code",
   "execution_count": 15,
   "metadata": {},
   "outputs": [
    {
     "name": "stdout",
     "output_type": "stream",
     "text": [
      "     County  Year  Days with AQI  Good Days  Moderate Days  \\\n",
      "0  Buncombe  2000          260.0      129.0          110.0   \n",
      "1  Buncombe  2001          253.0      141.0          100.0   \n",
      "2  Buncombe  2002          260.0      144.0           83.0   \n",
      "3  Buncombe  2003          303.0      178.0          119.0   \n",
      "4  Buncombe  2004          357.0      187.0          166.0   \n",
      "\n",
      "   Unhealthy for Sensitive Groups Days  Unhealthy Days  Very Unhealthy Days  \\\n",
      "0                                 15.0             6.0                  0.0   \n",
      "1                                 11.0             1.0                  0.0   \n",
      "2                                 27.0             6.0                  0.0   \n",
      "3                                  6.0             0.0                  0.0   \n",
      "4                                  4.0             0.0                  0.0   \n",
      "\n",
      "   Hazardous Days  Max AQI  90th Percentile AQI  Median AQI  Days CO  \\\n",
      "0             0.0    179.0                 93.0        51.0      0.0   \n",
      "1             0.0    171.0                 87.0        48.0      0.0   \n",
      "2             0.0    179.0                108.0        48.0      0.0   \n",
      "3             0.0    137.0                 72.0        46.0      0.0   \n",
      "4             0.0    133.0                 74.0        49.0      0.0   \n",
      "\n",
      "   Days NO2  Days Ozone  Days PM2.5  Days PM10  Good_to_Moderate_Ratio  \\\n",
      "0       0.0       176.0        84.0        0.0                1.172727   \n",
      "1       0.0       174.0        78.0        1.0                1.410000   \n",
      "2       0.0       172.0        88.0        0.0                1.734940   \n",
      "3       0.0        90.0       213.0        0.0                1.495798   \n",
      "4       0.0        82.0       275.0        0.0                1.126506   \n",
      "\n",
      "   Unhealthy_Days_Percentage  \n",
      "0                   8.076923  \n",
      "1                   4.743083  \n",
      "2                  12.692308  \n",
      "3                   1.980198  \n",
      "4                   1.120448  \n"
     ]
    }
   ],
   "source": [
    "# Read data back from the database to confirm\n",
    "retrieved_data = pd.read_sql\n"
   ]
  },
  {
   "cell_type": "code",
   "execution_count": 18,
   "metadata": {},
   "outputs": [],
   "source": [
    "# Exporting to a new CSV file\n",
    "new_features_file_path = "
   ]
  }
 ],
 "metadata": {
  "kernelspec": {
   "display_name": "Python 3 (ipykernel)",
   "language": "python",
   "name": "python3"
  },
  "language_info": {
   "codemirror_mode": {
    "name": "ipython",
    "version": 3
   },
   "file_extension": ".py",
   "mimetype": "text/x-python",
   "name": "python",
   "nbconvert_exporter": "python",
   "pygments_lexer": "ipython3",
   "version": "3.10.11"
  }
 },
 "nbformat": 4,
 "nbformat_minor": 2
}
